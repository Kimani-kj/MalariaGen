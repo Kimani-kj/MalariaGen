{
  "cells": [
    {
      "cell_type": "markdown",
      "metadata": {
        "id": "view-in-github",
        "colab_type": "text"
      },
      "source": [
        "<a href=\"https://colab.research.google.com/github/Kimani-kj/MalariaGen/blob/main/Copy_of_Workshop_3_Module_1_Plotting_with_Plotly_Express_2022_05_01.ipynb\" target=\"_parent\"><img src=\"https://colab.research.google.com/assets/colab-badge.svg\" alt=\"Open In Colab\"/></a>"
      ]
    },
    {
      "cell_type": "markdown",
      "metadata": {
        "id": "5KSo3K-VA309"
      },
      "source": [
        "![banner](https://github.com/anopheles-genomic-surveillance/anopheles-genomic-surveillance.github.io/blob/master/docs/banner.jpg?raw=1)\n",
        "\n",
        "***[Workshop 3](about) - Training course in data analysis for genomic surveillance of African malaria vectors***\n",
        "\n",
        "---"
      ]
    },
    {
      "cell_type": "markdown",
      "metadata": {
        "id": "YSWR2kvGA5Mn"
      },
      "source": [
        "# Module 1 - Plotting with Plotly Express\n",
        "\n",
        "**Theme: Tools & Technology**\n",
        "\n",
        "This module provides an introduction to visualising data with some basic charts using the [Plotly Express](https://plotly.com/python/plotly-express/) package for Python."
      ]
    },
    {
      "cell_type": "markdown",
      "metadata": {
        "id": "VjafNAxeBEAP"
      },
      "source": [
        "## Learning objectives\n",
        "\n",
        "In this module we will learn how to:\n",
        "\n",
        "* Prepare data for plotting\n",
        "* Create scatter plots\n",
        "* Create bar plots\n",
        "* Create line plots"
      ]
    },
    {
      "cell_type": "markdown",
      "metadata": {
        "id": "RULA8RH--KQB"
      },
      "source": [
        "## Lecture"
      ]
    },
    {
      "cell_type": "markdown",
      "metadata": {
        "id": "C616repx-KQE"
      },
      "source": [
        "### English"
      ]
    },
    {
      "cell_type": "code",
      "execution_count": null,
      "metadata": {
        "tags": [
          "remove-input"
        ],
        "id": "JaQ6ultw-KQH"
      },
      "outputs": [],
      "source": [
        "%%html\n",
        "<iframe width=\"560\" height=\"315\" src=\"https://www.youtube.com/embed/7SwVVe8iPl4\" title=\"YouTube video player\" frameborder=\"0\" allow=\"accelerometer; autoplay; clipboard-write; encrypted-media; gyroscope; picture-in-picture\" allowfullscreen></iframe>"
      ]
    },
    {
      "cell_type": "markdown",
      "metadata": {
        "id": "OIMuWfj4-KQL"
      },
      "source": [
        "### Français\n"
      ]
    },
    {
      "cell_type": "code",
      "execution_count": null,
      "metadata": {
        "tags": [
          "remove-input"
        ],
        "id": "qtlT1KqK-KQN"
      },
      "outputs": [],
      "source": [
        "%%html\n",
        "<iframe width=\"560\" height=\"315\" src=\"https://www.youtube.com/embed/_Z-bl2i5WdE\" title=\"YouTube video player\" frameborder=\"0\" allow=\"accelerometer; autoplay; clipboard-write; encrypted-media; gyroscope; picture-in-picture\" allowfullscreen></iframe>"
      ]
    },
    {
      "cell_type": "markdown",
      "metadata": {
        "id": "cB2zqJOM-KQR"
      },
      "source": [
        "Please note that the code in the cells below might differ from that shown in the video. This can happen because Python packages and their dependencies change due to updates, necessitating tweaks to the code."
      ]
    },
    {
      "cell_type": "markdown",
      "metadata": {
        "id": "ABoZ59IlBo0S"
      },
      "source": [
        "## Python packages for data visualisation\n",
        "\n",
        "Being able to visualise your data is obviously a great skill to have, and there are some fantastic Python packages available for creating a wide range of different visualisations.\n",
        "\n",
        "In fact, we are spoilt for choice, with packages like:\n",
        "\n",
        "* [Plotly Express](https://plotly.com/python/plotly-express/)\n",
        "* [Bokeh](https://docs.bokeh.org/en/latest/)\n",
        "* [Matplotlib](https://matplotlib.org/)\n",
        "* [Seaborn](https://seaborn.pydata.org/)\n",
        "* [HoloViz](https://holoviz.org/)\n",
        "\n",
        "...and others all providing some incredibly powerful plotting tools for data scientists.\n",
        "\n",
        "For this module I've chosen to begin with [Plotly Express](https://plotly.com/python/plotly-express/) because:\n",
        "\n",
        "* It supports [many different types of chart](https://plotly.com/python/)\n",
        "* It has a relatively simple interface with good documentation\n",
        "* You can create plots quickly with just a few lines of code (often just a single function call)\n",
        "* Plots are interactive\n",
        "\n",
        "...which makes it relatively easy to learn and a good choice for **exploratory data analysis**.\n",
        "\n",
        "In this module we are just going to look at some basic charts, but you might like to browse the [Plotly Python](https://plotly.com/python/) website to see what other charts are possible.\n"
      ]
    },
    {
      "cell_type": "markdown",
      "metadata": {
        "id": "FL-y3_eBBZHl"
      },
      "source": [
        "## Setup\n",
        "\n",
        "In this module we'll use the Plotly Express package, and we'll also use pandas for loading data to plot. (See [workshop 2, module 1 for an introduction to pandas DataFrames](https://anopheles-genomic-surveillance.github.io/workshop-2/module-1-pandas.html) if you missed it or need a recap.) Both of these packages are already installed on colab, so we can go ahead and import them."
      ]
    },
    {
      "cell_type": "code",
      "execution_count": null,
      "metadata": {
        "id": "xS4ABaNUC6UQ",
        "tags": []
      },
      "outputs": [],
      "source": [
        "import pandas as pd\n",
        "import plotly.io as pio\n",
        "pio.renderers.default = \"notebook+colab\"\n",
        "import plotly.express as px"
      ]
    },
    {
      "cell_type": "markdown",
      "metadata": {
        "id": "caZr7Q7XFhCo"
      },
      "source": [
        "## Preparing data for plotting\n",
        "\n",
        "Plotly Express can accept data in a [variety of different input formats](https://plotly.com/python/px-arguments/), but it works particularly well when you provide data as a pandas DataFrame.\n",
        "\n",
        "Let's remind ourselves what a DataFrame looks like, by loading one of the example DataFrames that come with the Plotly Express package."
      ]
    },
    {
      "cell_type": "code",
      "execution_count": null,
      "metadata": {
        "id": "aS3yuHAqjzsG",
        "tags": []
      },
      "outputs": [],
      "source": [
        "df_medals_long = px.data.medals_long()\n",
        "df_medals_long"
      ]
    },
    {
      "cell_type": "markdown",
      "metadata": {
        "id": "BE-yqt5UTOGg"
      },
      "source": [
        "One thing worth mentioning is that often the same data can be structured in different ways. For example, the same data above could also be stored in the following DataFrame:"
      ]
    },
    {
      "cell_type": "code",
      "execution_count": null,
      "metadata": {
        "id": "vtFyw1qRj2pE",
        "tags": []
      },
      "outputs": [],
      "source": [
        "df_medals_wide = px.data.medals_wide()\n",
        "df_medals_wide"
      ]
    },
    {
      "cell_type": "markdown",
      "metadata": {
        "id": "8t6YFn5pT2tf"
      },
      "source": [
        "The `df_medals_long` DataFrame is an example of a **\"long-form\"** DataFrame, so-called because it has more rows and fewer columns.\n",
        "\n",
        "The `df_medals_wide` DataFrame is an example of a **\"wide-form\"** DataFrame, so-called because it has fewer rows and more columns.\n",
        "\n",
        "Plotly Express can plot either, but for the examples we're going to look at today, it is slightly more convenient to work with long-form data."
      ]
    },
    {
      "cell_type": "markdown",
      "metadata": {
        "id": "DsZTuxbulALH"
      },
      "source": [
        "Let's now load some more interesting data to practise plotting with, which is the [Systema Globalis](https://github.com/open-numbers/ddf--gapminder--systema_globalis) data on income, life expectancy and child mortality by country, used by [Gapminder](https://www.gapminder.org/tools)."
      ]
    },
    {
      "cell_type": "code",
      "execution_count": null,
      "metadata": {
        "id": "QJ6mZf2FCzIK",
        "tags": []
      },
      "outputs": [],
      "source": [
        "def load_gapminder_data():\n",
        "    \"\"\"Create a pandas DataFrame with some of the key indicators from the\n",
        "    Open Numbers Systema Globalis dataset.\"\"\"\n",
        "\n",
        "    # pin to a specific github tag\n",
        "    base_url = \"https://raw.githubusercontent.com/open-numbers/ddf--gapminder--systema_globalis/v1.20.1/\"\n",
        "\n",
        "    # load income per person\n",
        "    df_income = pd.read_csv(base_url + \"ddf--datapoints--income_per_person_gdppercapita_ppp_inflation_adjusted--by--geo--time.csv\")\n",
        "\n",
        "    # load life expectancy\n",
        "    df_life_expectancy = pd.read_csv(base_url + \"ddf--datapoints--life_expectancy_at_birth_with_projections--by--geo--time.csv\")\n",
        "\n",
        "    # load population size\n",
        "    df_population = pd.read_csv(base_url + \"ddf--datapoints--population_total--by--geo--time.csv\")\n",
        "\n",
        "    # load child mortality\n",
        "    df_child_mortality = pd.read_csv(base_url + \"ddf--datapoints--child_mortality_0_5_year_olds_dying_per_1000_born--by--geo--time.csv\")\n",
        "\n",
        "    # load country attributes\n",
        "    df_countries = pd.read_csv(base_url + \"ddf--entities--geo--country.csv\")\n",
        "\n",
        "    # rename some columns in the countries dataframe to help with merging\n",
        "    df_countries = (\n",
        "        df_countries\n",
        "        [[\"country\", \"name\", \"world_4region\", \"world_6region\"]]\n",
        "        .rename(columns={\"country\": \"geo\", \"name\": \"country\"})\n",
        "    )\n",
        "\n",
        "    # capitalise regions\n",
        "    df_countries[\"world_4region\"] = df_countries[\"world_4region\"].str.capitalize()\n",
        "\n",
        "    # join all indicators into a single dataframe\n",
        "    df_gapminder = pd.merge(df_population, df_income, on=[\"geo\", \"time\"])\n",
        "    df_gapminder = pd.merge(df_gapminder, df_life_expectancy, on=[\"geo\", \"time\"])\n",
        "    df_gapminder = pd.merge(df_gapminder, df_child_mortality, on=[\"geo\", \"time\"])\n",
        "    df_gapminder = pd.merge(df_gapminder, df_countries, on=\"geo\")\n",
        "\n",
        "    # rename some columns to be more concise\n",
        "    df_gapminder = df_gapminder.rename(\n",
        "        columns={\n",
        "            \"time\": \"year\",\n",
        "            \"population_total\": \"population\",\n",
        "            \"income_per_person_gdppercapita_ppp_inflation_adjusted\": \"income_per_person\",\n",
        "            \"life_expectancy_at_birth_with_projections\": \"life_expectancy\",\n",
        "            \"child_mortality_0_5_year_olds_dying_per_1000_born\": \"child_mortality\",\n",
        "        }\n",
        "    )\n",
        "\n",
        "    # keep only data between 1950 and 2021 - it's less jumpy\n",
        "    df_gapminder = df_gapminder.query(\"1950 <= year <= 2021\").reset_index(drop=True)\n",
        "\n",
        "    # tidy up columns\n",
        "    df_gapminder.drop(columns=[\"geo\"], inplace=True)\n",
        "    df_gapminder.insert(0, \"country\", df_gapminder.pop(\"country\"))  # move country column to the front\n",
        "\n",
        "    return df_gapminder\n"
      ]
    },
    {
      "cell_type": "code",
      "execution_count": null,
      "metadata": {
        "id": "-sBzae62ECnR",
        "tags": []
      },
      "outputs": [],
      "source": [
        "df_gapminder = load_gapminder_data()\n",
        "df_gapminder"
      ]
    },
    {
      "cell_type": "markdown",
      "metadata": {
        "id": "CzUSCeQjFega"
      },
      "source": [
        "## Scatter plots\n",
        "\n",
        "Let's use the Systema Globalis data to make a scatter plot. To make a scatter plot, we can use the `px.scatter()` function. Let's look at the function documentation."
      ]
    },
    {
      "cell_type": "code",
      "execution_count": null,
      "metadata": {
        "id": "NZ83dkEAF7kj",
        "tags": []
      },
      "outputs": [],
      "source": [
        "px.scatter?"
      ]
    },
    {
      "cell_type": "markdown",
      "metadata": {
        "id": "ju8uhtm6VBwI"
      },
      "source": [
        "The [px.scatter() function documentation](https://plotly.com/python-api-reference/generated/plotly.express.scatter) is also available on the Plotly website.\n",
        "\n",
        "For any given type of plot or chart, there is also usually a user guide on the Plotly website, which provides some helpful examples. For example, here is the [Plotly user guide on scatter plots](https://plotly.com/python/line-and-scatter/)."
      ]
    },
    {
      "cell_type": "markdown",
      "metadata": {
        "id": "RcXV8JTkFrCt"
      },
      "source": [
        "### First scatter plot"
      ]
    },
    {
      "cell_type": "code",
      "execution_count": null,
      "metadata": {
        "id": "kG3nYEhWMjo9",
        "tags": []
      },
      "outputs": [],
      "source": [
        "fig = px.scatter(\n",
        "    data_frame=df_gapminder.query(\"year == 2021\"),\n",
        "    x=\"income_per_person\",\n",
        "    y=\"life_expectancy\",\n",
        ")\n",
        "fig"
      ]
    },
    {
      "cell_type": "markdown",
      "metadata": {
        "id": "U7iQya5ZFF4W"
      },
      "source": [
        "**Exercise 1 (English)**\n",
        "\n",
        "Uncomment the code in the cell below and run it to create a scatter plot comparing `income_per_person` with `child_mortality` in 2021.\n",
        "\n",
        "**Exercice 1 (Français)**\n",
        "\n",
        "Décommenter le code dans la cellule ci-dessous et l’exécuter afin de créer un diagramme à nuage de points comparant `income_per_person` avec `child_mortality` en 2021."
      ]
    },
    {
      "cell_type": "code",
      "execution_count": null,
      "metadata": {
        "id": "bSxDsQL9FPry",
        "tags": []
      },
      "outputs": [],
      "source": [
        "# fig = px.scatter(\n",
        "#     data_frame=df_gapminder.query(\"year == 2021\"),\n",
        "#     x=\"income_per_person\",\n",
        "#     y=\"child_mortality\",\n",
        "# )\n",
        "# fig"
      ]
    },
    {
      "cell_type": "markdown",
      "metadata": {
        "id": "8nMQjO0qGBC4"
      },
      "source": [
        "### Hover text (a.k.a. tooltips)\n",
        "\n",
        "To help explore these data, let's use the `hover_name` and `hover_data` parameters to add more information into the hover text."
      ]
    },
    {
      "cell_type": "code",
      "execution_count": null,
      "metadata": {
        "id": "j60mQ2InNB61",
        "tags": []
      },
      "outputs": [],
      "source": [
        "fig = px.scatter(\n",
        "    data_frame=df_gapminder.query(\"year == 2021\"),\n",
        "    x=\"income_per_person\",\n",
        "    y=\"life_expectancy\",\n",
        "    hover_name=\"country\",\n",
        "    hover_data=[\"child_mortality\"],\n",
        ")\n",
        "fig"
      ]
    },
    {
      "cell_type": "markdown",
      "metadata": {
        "id": "iAArmKblpXzr"
      },
      "source": [
        "N.B., there is [lots more information on how to use hover text](https://plotly.com/python/hover-text-and-formatting/) in the Plotly docs."
      ]
    },
    {
      "cell_type": "markdown",
      "metadata": {
        "id": "BaDj3-kHGMrB"
      },
      "source": [
        "### Interactive controls"
      ]
    },
    {
      "cell_type": "markdown",
      "metadata": {
        "id": "461NDPXHt82g"
      },
      "source": [
        "Every Plotly plot has a set of interactive controls, which appear at the top right of the plot and look like this:"
      ]
    },
    {
      "cell_type": "markdown",
      "metadata": {
        "id": "ETrOZGX8rjfM"
      },
      "source": [
        "<img src=\"data:image/png;base64,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\"/>"
      ]
    },
    {
      "cell_type": "markdown",
      "metadata": {
        "id": "I-DSSBnJZiLu"
      },
      "source": [
        "These controls are useful for zooming and panning a plot, as well as for downloading a static version of a plot."
      ]
    },
    {
      "cell_type": "markdown",
      "metadata": {
        "id": "Vsv4KCGBGPWC"
      },
      "source": [
        "### Marker color\n",
        "\n",
        "To explore these data further, let's use the `color` parameter to represent another variable."
      ]
    },
    {
      "cell_type": "code",
      "execution_count": null,
      "metadata": {
        "id": "Ne9VItGmNvgq",
        "tags": []
      },
      "outputs": [],
      "source": [
        "fig = px.scatter(\n",
        "    data_frame=df_gapminder.query(\"year == 2021\"),\n",
        "    x=\"income_per_person\",\n",
        "    y=\"life_expectancy\",\n",
        "    hover_name=\"country\",\n",
        "    hover_data=[\"child_mortality\"],\n",
        "    color=\"world_4region\",\n",
        ")\n",
        "fig"
      ]
    },
    {
      "cell_type": "markdown",
      "metadata": {
        "id": "VqMo-MV-Z3-y"
      },
      "source": [
        "Now we can see easily which region of the world each country belongs to."
      ]
    },
    {
      "cell_type": "markdown",
      "metadata": {
        "id": "xRbpT_IyGSir"
      },
      "source": [
        "### Marker size\n",
        "\n",
        "Let's use the `size` parameter to also visualise the population size of each country."
      ]
    },
    {
      "cell_type": "code",
      "execution_count": null,
      "metadata": {
        "id": "iw8qT8AhN7IQ",
        "tags": []
      },
      "outputs": [],
      "source": [
        "fig = px.scatter(\n",
        "    data_frame=df_gapminder.query(\"year == 2021\"),\n",
        "    x=\"income_per_person\",\n",
        "    y=\"life_expectancy\",\n",
        "    hover_name=\"country\",\n",
        "    hover_data=[\"child_mortality\"],\n",
        "    color=\"world_4region\",\n",
        "    size=\"population\",\n",
        "    size_max=80,\n",
        ")\n",
        "fig"
      ]
    },
    {
      "cell_type": "markdown",
      "metadata": {
        "id": "WSNuqvztaFpA"
      },
      "source": [
        "Note that we also used the `size_max` parameter to increase the allowed maximum size of markers, which is better for this particular data."
      ]
    },
    {
      "cell_type": "markdown",
      "metadata": {
        "id": "0Gg3ugo9HPbB"
      },
      "source": [
        "**Exercise 2 (English)**\n",
        "\n",
        "Create a scatter plot using the Gapminder data for the year 1950, with `income_per_person` on the X axis and `child_mortality` on the Y axis. Use `population` for the marker size, and `world_6region` for marker color.\n",
        "\n",
        "**Exercice 2 (Français)**\n",
        "\n",
        "Créer un diagramme à nuage de points utilisant les données de Gapminder pour l’année 1950 avec `income_per_person` sur l’axe horizontal X et `child_mortality` sur l’axe vertical Y. Utiliser `population` pour la taille du point et `world_6region` pour sa couleur."
      ]
    },
    {
      "cell_type": "markdown",
      "metadata": {
        "id": "gOIsT2HuGcV7"
      },
      "source": [
        "### Plot title and axis labels\n",
        "\n",
        "If we're presenting this plot to others, it is a good idea to tidy up the axis titles, and to add a title to the plot. We can do this with the `labels` and `title` parameters."
      ]
    },
    {
      "cell_type": "code",
      "execution_count": null,
      "metadata": {
        "id": "gXR2h_wUNXeP",
        "tags": []
      },
      "outputs": [],
      "source": [
        "fig = px.scatter(\n",
        "    data_frame=df_gapminder.query(\"year == 2021\"),\n",
        "    x=\"income_per_person\",\n",
        "    y=\"life_expectancy\",\n",
        "    hover_name=\"country\",\n",
        "    hover_data=[\"child_mortality\"],\n",
        "    color=\"world_4region\",\n",
        "    size=\"population\",\n",
        "    size_max=80,\n",
        "    labels={\n",
        "        \"income_per_person\": \"Income\",\n",
        "        \"life_expectancy\": \"Life expectancy\",\n",
        "        \"child_mortality\": \"Child mortality\",\n",
        "        \"world_4region\": \"World region\",\n",
        "        \"population\": \"Population\",\n",
        "    },\n",
        "    title=\"Life expectancy and income by country in 2021\"\n",
        ")\n",
        "fig"
      ]
    },
    {
      "cell_type": "markdown",
      "metadata": {
        "id": "Rwi3QXAmGmaR"
      },
      "source": [
        "### Using log scale\n",
        "\n",
        "Some variables are more naturally visualised on a log scale, rather than a linear scale. Let's use the `log_x` parameter to apply a log scale to the X axis."
      ]
    },
    {
      "cell_type": "code",
      "execution_count": null,
      "metadata": {
        "id": "GCvWKhYQNr-P",
        "tags": []
      },
      "outputs": [],
      "source": [
        "fig = px.scatter(\n",
        "    data_frame=df_gapminder.query(\"year == 2021\"),\n",
        "    x=\"income_per_person\",\n",
        "    y=\"life_expectancy\",\n",
        "    hover_name=\"country\",\n",
        "    hover_data=[\"child_mortality\"],\n",
        "    color=\"world_4region\",\n",
        "    size=\"population\",\n",
        "    size_max=80,\n",
        "    labels={\n",
        "        \"income_per_person\": \"Income\",\n",
        "        \"life_expectancy\": \"Life expectancy\",\n",
        "        \"world_4region\": \"World region\",\n",
        "        \"population\": \"Population\",\n",
        "    },\n",
        "    title=\"Life expectancy and income by country in 2021\",\n",
        "    log_x=True,\n",
        ")\n",
        "fig"
      ]
    },
    {
      "cell_type": "markdown",
      "metadata": {
        "id": "jcfWMAw1GvEB"
      },
      "source": [
        "### Animation\n",
        "\n",
        "Let's now add another variable, which is `year`. When you have a variable that represents time, it can also be useful to visualise this as an animation. We can do this via the `animation_frame` parameter."
      ]
    },
    {
      "cell_type": "code",
      "execution_count": null,
      "metadata": {
        "id": "xqxIIQwhG5x6",
        "tags": []
      },
      "outputs": [],
      "source": [
        "fig = px.scatter(\n",
        "    data_frame=df_gapminder,\n",
        "    x=\"income_per_person\",\n",
        "    y=\"life_expectancy\",\n",
        "    hover_name=\"country\",\n",
        "    hover_data=[\"child_mortality\"],\n",
        "    color=\"world_4region\",\n",
        "    size=\"population\",\n",
        "    size_max=80,\n",
        "    labels={\n",
        "        \"income_per_person\": \"Income\",\n",
        "        \"life_expectancy\": \"Life expectancy\",\n",
        "        \"world_4region\": \"World region\",\n",
        "        \"population\": \"Population\",\n",
        "        \"year\": \"Year\",\n",
        "    },\n",
        "    title=\"Life expectancy and income by country, 1950-2021\",\n",
        "    log_x=True,\n",
        "    animation_frame=\"year\",\n",
        "    range_x=[200, 200_000],\n",
        "    range_y=[20, 95],\n",
        "    height=700,\n",
        ")\n",
        "fig"
      ]
    },
    {
      "cell_type": "markdown",
      "metadata": {
        "id": "vTgTWEgFG4BC"
      },
      "source": [
        "### Visual styling\n",
        "\n",
        "The scatter plot we've created above is more than good enough if we are doing some exploratory data analysis, but in case you need to make a really strong visual impact and you want to change any aspect of how the plot looks, you can do that via various additional function calls which update the figure. Here's an example, where we alter the template, change the X axis tick positions and labels, and change the marker line color to black."
      ]
    },
    {
      "cell_type": "code",
      "execution_count": null,
      "metadata": {
        "id": "sVF8bcKpHhHu",
        "tags": []
      },
      "outputs": [],
      "source": [
        "fig = px.scatter(\n",
        "    data_frame=df_gapminder,\n",
        "    x=\"income_per_person\",\n",
        "    y=\"life_expectancy\",\n",
        "    hover_name=\"country\",\n",
        "    hover_data=[\"child_mortality\"],\n",
        "    color=\"world_4region\",\n",
        "    size=\"population\",\n",
        "    size_max=80,\n",
        "    labels={\n",
        "        \"income_per_person\": \"Income per person (GDP/capita, PPP$ inflation-adjusted)\",\n",
        "        \"life_expectancy\": \"Life expectancy (years)\",\n",
        "        \"world_4region\": \"World region\",\n",
        "        \"population\": \"Population\",\n",
        "        \"year\": \"Year\",\n",
        "    },\n",
        "    title=\"Life expectancy and income by country, 1950-2021\",\n",
        "    log_x=True,\n",
        "    animation_frame=\"year\",\n",
        "    range_x=[200, 200_000],\n",
        "    range_y=[20, 95],\n",
        "#     color_discrete_sequence=px.colors.qualitative.Set1,\n",
        "    color_discrete_map={\"Asia\": \"#ff5872\", \"Africa\": \"#00d5e9\", \"Europe\": \"#ffe700\", \"Americas\": \"#7feb00\"},\n",
        "    opacity=0.9,\n",
        "    template=\"plotly_white\",\n",
        "    height=600,\n",
        "    width=800,\n",
        ")\n",
        "\n",
        "fig.update_layout(\n",
        "    xaxis = dict(\n",
        "        tickmode = \"array\",\n",
        "        tickvals = [500, 1_000, 2_000, 4_000, 8_000, 16_000, 32_000, 64_000, 128_000],\n",
        "        ticktext = [\"500\", \"1000\", \"2000\", \"4000\", \"8000\", \"16k\", \"32k\", \"64k\", \"128k\"]\n",
        "    )\n",
        ")\n",
        "\n",
        "fig.update_xaxes(showline=True, linewidth=1, linecolor=\"black\")\n",
        "fig.update_yaxes(showline=True, linewidth=1, linecolor=\"black\")\n",
        "\n",
        "fig.update_traces(\n",
        "    marker=dict(line=dict(width=.5, color=\"black\")),\n",
        ")\n",
        "\n",
        "fig"
      ]
    },
    {
      "cell_type": "markdown",
      "metadata": {
        "id": "nkM3PXlCgyxq"
      },
      "source": [
        "There's [more info on styling](https://plotly.com/python/styling-plotly-express/) on the Plotly website, as well as info on [continuous color scales](https://plotly.com/python/colorscales/) and [discrete colors](https://plotly.com/python/discrete-color/)."
      ]
    },
    {
      "cell_type": "markdown",
      "metadata": {
        "id": "YaRNCiwoJiQL"
      },
      "source": [
        "**Exercise 3 (English)**\n",
        "\n",
        "Create an animated scatter plot from the Gapminder data as above, but using `child_mortality` on the Y axis and `world_6region` for marker color.\n",
        "\n",
        "Also, use a different palette for the marker colors. Hint: use the `color_discrete_sequence` parameter, and choose your favourite [discrete color sequence](https://plotly.com/python/discrete-color/#color-sequences-in-plotly-express) (palette) from the Plotly website.\n",
        "\n",
        "**Exercice 3 (Français)**\n",
        "\n",
        "Créer un diagramme à nuage de points animé utilisant les données de Gapminder comme ci-dessus mais affichant `child_mortality` sur l’axe Y et `world_6region` pour la couleur du marqueur.\n",
        "\n",
        "Utiliser aussi une palette de couleur différente. Indice: utiliser le paramètre `color_discrete_sequence` et choisir votre [palette favorite](https://plotly.com/python/discrete-color/#color-sequences-in-plotly-expres) sur le site Plotly."
      ]
    },
    {
      "cell_type": "markdown",
      "metadata": {
        "id": "p1KKcfiInLag"
      },
      "source": [
        "### 3D scatter plots\n",
        "\n",
        "For a bit of extra interest, let's use the `px.scatter_3d()` function to make a 3-dimensional version of the Gapminder animation, adding in the `child_mortality` variable."
      ]
    },
    {
      "cell_type": "code",
      "execution_count": null,
      "metadata": {
        "id": "dyYVzyoikZMe",
        "tags": []
      },
      "outputs": [],
      "source": [
        "fig = px.scatter_3d(\n",
        "    data_frame=df_gapminder,\n",
        "    x=\"income_per_person\",\n",
        "    y=\"life_expectancy\",\n",
        "    z=\"child_mortality\",\n",
        "    hover_name=\"country\",\n",
        "    color=\"world_4region\",\n",
        "    size=\"population\",\n",
        "    size_max=100,\n",
        "    animation_frame=\"year\",\n",
        "    log_x=True,\n",
        "    range_x=[200, 200_000],\n",
        "    range_y=[0, 95],\n",
        "    range_z=[0, 500],\n",
        "    height=700,\n",
        "    width=700,\n",
        ")\n",
        "\n",
        "fig.update_layout(\n",
        "    scene=dict(aspectmode=\"cube\"),\n",
        "    legend=dict(itemsizing=\"constant\"),\n",
        ")\n",
        "\n",
        "fig"
      ]
    },
    {
      "cell_type": "markdown",
      "metadata": {
        "id": "KiCcjceSiqDg"
      },
      "source": [
        "## Bar plots\n",
        "\n",
        "To illustrate bar plots let's use data from [Alliance for Malaria Prevention's Net Mapping Project](https://allianceformalariaprevention.com/working-groups/net-mapping/). We'll combine data from the [2020 report](https://storage.googleapis.com/vo_agam_release/reference/amp_net_mapping_project/Final-2020.xlsx) and the [2022 Q1 report](https://storage.googleapis.com/vo_agam_release/reference/amp_net_mapping_project/NMP-1st-Q-2022.xlsx), which together provide data on LLIN shipments by country for 2004-2021 broken down by LLIN type (standard, PBO and dual active ingredient)."
      ]
    },
    {
      "cell_type": "code",
      "execution_count": null,
      "metadata": {
        "id": "LQgt6BsXWcaX",
        "tags": []
      },
      "outputs": [],
      "source": [
        "def load_llin_data():\n",
        "    \"\"\"Load data on LLIN shipments from the Alliance for Malaria Prevention's\n",
        "    Net Mapping Project.\"\"\"\n",
        "\n",
        "    # N.B., data are split over several spreadsheets, so some munging is required.\n",
        "\n",
        "    # N.B., files have been obtained from the AMP website and uploaded to\n",
        "    # Google Cloud Storage for efficient download.\n",
        "\n",
        "    # load the \"Final-2020.xlsx\" dataset, \"SSA\" sheet - this has LLINs for 2004-2020\n",
        "    df_nmp_2020_ssa = pd.read_excel(\n",
        "        \"http://vobs-resources.cog.sanger.ac.uk/training/img/workshop-3/reference-amp_net_mapping_project-Final-2020.xlsx\",\n",
        "        sheet_name=\"SSA\",\n",
        "        skiprows=2,\n",
        "        skipfooter=2,\n",
        "        names=[\"country\"] + list(range(2004, 2021)),\n",
        "        usecols=list(range(18))\n",
        "    )\n",
        "\n",
        "    # load the \"Final-2020.xlsx\" dataset, \"SSA by net type\" sheet - this has LLINs by type for 2018, 2019, 2020\n",
        "    df_nmp_2020_ssa_by_type = pd.read_excel(\n",
        "        \"http://vobs-resources.cog.sanger.ac.uk/training/img/workshop-3/reference-amp_net_mapping_project-Final-2020.xlsx\",\n",
        "        sheet_name=\"SSA by net type\",\n",
        "        skiprows=3,\n",
        "        skipfooter=8,\n",
        "        usecols=\"A,B,C,F,G,H,K,L,M\",\n",
        "        names=[\n",
        "            \"country\",\n",
        "            \"2018_standard\",\n",
        "            \"2018_pbo\",\n",
        "            \"2019_standard\",\n",
        "            \"2019_pbo\",\n",
        "            \"2019_dual\",\n",
        "            \"2020_standard\",\n",
        "            \"2020_pbo\",\n",
        "            \"2020_dual\",\n",
        "        ],\n",
        "    )\n",
        "\n",
        "    # load the \"NMP-1st-Q-2022.xlsx\" dataset, \"SSA by Type\" sheet - this has LLINs by type for 2019, 2020, 2021\n",
        "    df_nmp_2022q1_ssa_by_type = pd.read_excel(\n",
        "        \"http://vobs-resources.cog.sanger.ac.uk/training/img/workshop-3/reference-amp_net_mapping_project-NMP-1st-Q-2022.xlsx\",\n",
        "        sheet_name=\"SSA by Type\",\n",
        "        skiprows=3,\n",
        "        skipfooter=2,\n",
        "        usecols=\"A,C,D,E,H,I,J,M,N,O\",\n",
        "        names=[\n",
        "            \"country\",\n",
        "            \"2019_standard\",\n",
        "            \"2019_pbo\",\n",
        "            \"2019_dual\",\n",
        "            \"2020_standard\",\n",
        "            \"2020_pbo\",\n",
        "            \"2020_dual\",\n",
        "            \"2021_standard\",\n",
        "            \"2021_pbo\",\n",
        "            \"2021_dual\",\n",
        "        ],\n",
        "    )\n",
        "\n",
        "    # N.B., we would like LLINs by type for the full range 2004-2021.\n",
        "    # We also would like the data in \"long form\" for easier plotting.\n",
        "    # Let's munge!\n",
        "\n",
        "    # start with data prior to 2018\n",
        "    df_llins_pre_2018 = (\n",
        "        df_nmp_2020_ssa\n",
        "        .melt(id_vars=\"country\", var_name=\"year\", value_name=\"llins_shipped\")\n",
        "        .query(\"year < 2018\")\n",
        "    )\n",
        "    df_llins_pre_2018[\"llin_type\"] = \"standard\"  # assume all standard llins prior to 2018\n",
        "\n",
        "    # now grab the data by type for 2018\n",
        "    df_llins_2018 = (\n",
        "        df_nmp_2020_ssa_by_type\n",
        "        [[\"country\", \"2018_standard\", \"2018_pbo\"]]\n",
        "        .melt(id_vars=\"country\", var_name=\"year_type\", value_name=\"llins_shipped\")\n",
        "    )\n",
        "    df_year_type = (\n",
        "        df_llins_2018[\"year_type\"]\n",
        "        .str.split(\"_\", expand=True)\n",
        "        .rename(columns={0: \"year\", 1: \"llin_type\"})\n",
        "    )\n",
        "    df_llins_2018[\"year\"] = df_year_type[\"year\"]\n",
        "    df_llins_2018[\"llin_type\"] = df_year_type[\"llin_type\"]\n",
        "    df_llins_2018.drop(columns=\"year_type\", inplace=True)\n",
        "\n",
        "    # now grab the data by type for 2019, 2020, 2021\n",
        "    df_llins_post_2018 = (\n",
        "        df_nmp_2022q1_ssa_by_type\n",
        "        [[\"country\", \"2019_standard\", \"2019_pbo\", \"2019_dual\", \"2020_standard\", \"2020_pbo\", \"2020_dual\", \"2021_standard\", \"2021_pbo\", \"2021_dual\"]]\n",
        "        .melt(id_vars=\"country\", var_name=\"year_type\", value_name=\"llins_shipped\")\n",
        "    )\n",
        "    df_year_type = (\n",
        "        df_llins_post_2018[\"year_type\"]\n",
        "        .str.split(\"_\", expand=True)\n",
        "        .rename(columns={0: \"year\", 1: \"llin_type\"})\n",
        "    )\n",
        "    df_llins_post_2018[\"year\"] = df_year_type[\"year\"]\n",
        "    df_llins_post_2018[\"llin_type\"] = df_year_type[\"llin_type\"]\n",
        "    df_llins_post_2018.drop(columns=\"year_type\", inplace=True)\n",
        "\n",
        "    # finally, concatenate everything\n",
        "    df_llins = pd.concat([df_llins_pre_2018, df_llins_2018, df_llins_post_2018]).reset_index(drop=True)\n",
        "\n",
        "    # ensure years have the right dtype\n",
        "    df_llins[\"year\"] = df_llins[\"year\"].astype(int)\n",
        "\n",
        "    # normalise country names\n",
        "    df_llins[\"country\"] = df_llins[\"country\"].replace(\"Congo (Democratic Republic of the)\", \"DR Congo\")\n",
        "\n",
        "    return df_llins\n"
      ]
    },
    {
      "cell_type": "code",
      "execution_count": null,
      "metadata": {
        "id": "Mw7FeYyuZBBe",
        "tags": []
      },
      "outputs": [],
      "source": [
        "df_llins = load_llin_data()\n",
        "df_llins"
      ]
    },
    {
      "cell_type": "code",
      "execution_count": null,
      "metadata": {
        "id": "tGp1jBjzZOYA",
        "tags": []
      },
      "outputs": [],
      "source": [
        "df_llins.query(\"country == 'Nigeria'\")"
      ]
    },
    {
      "cell_type": "markdown",
      "metadata": {
        "id": "ZcGCPwkNjD9F"
      },
      "source": [
        "### First bar plot\n",
        "\n",
        "To make a bar plot, we can use the `px.bar()` function. Let's look at the function documentation."
      ]
    },
    {
      "cell_type": "code",
      "execution_count": null,
      "metadata": {
        "id": "4GKyPiZsLhtO",
        "tags": []
      },
      "outputs": [],
      "source": [
        "px.bar?"
      ]
    },
    {
      "cell_type": "markdown",
      "metadata": {
        "id": "jd7E4QCXjEew"
      },
      "source": [
        "Again the [px.bar() function docs](https://plotly.com/python-api-reference/generated/plotly.express.bar) are also on the Plotly website, and there is also a [guide to bar charts](https://plotly.com/python/bar-charts/)."
      ]
    },
    {
      "cell_type": "markdown",
      "metadata": {
        "id": "7RJzhJ0Ei8oy"
      },
      "source": [
        "Let's now make a bar plot, with `year` on the X axis and `llins_shipped` on the Y axis."
      ]
    },
    {
      "cell_type": "code",
      "execution_count": null,
      "metadata": {
        "id": "PaWfagJOZQbm",
        "tags": []
      },
      "outputs": [],
      "source": [
        "fig = px.bar(\n",
        "    data_frame=df_llins,\n",
        "    x=\"year\",\n",
        "    y=\"llins_shipped\"\n",
        ")\n",
        "fig"
      ]
    },
    {
      "cell_type": "markdown",
      "metadata": {
        "id": "Pj_gpa0VjIJl"
      },
      "source": [
        "### Improved bar plot\n",
        "\n",
        "Let's now improve the bar plot by using color, hover text, and doing some visual styling."
      ]
    },
    {
      "cell_type": "code",
      "execution_count": null,
      "metadata": {
        "id": "N7nBR0qMZ4rX",
        "tags": []
      },
      "outputs": [],
      "source": [
        "fig = px.bar(\n",
        "    data_frame=df_llins,\n",
        "    x=\"year\",\n",
        "    y=\"llins_shipped\",\n",
        "    color=\"llin_type\",\n",
        "    hover_name=\"country\",\n",
        "    labels={\n",
        "        \"year\": \"Year\",\n",
        "        \"llins_shipped\": \"No. LLINs\",\n",
        "        \"llin_type\": \"LLIN type\"\n",
        "    },\n",
        "    title=\"LLIN shipments to countries in Sub-Saharan Africa\",\n",
        "    width=800,\n",
        "    template=\"plotly_white\",\n",
        ")\n",
        "fig"
      ]
    },
    {
      "cell_type": "markdown",
      "metadata": {
        "id": "4uWnyb_-hhas"
      },
      "source": [
        "**Exercise 4 (English)**\n",
        "\n",
        "Make a bar chart from the LLIN data as above, but using `country` for the X axis and `year` for the hover name.\n",
        "\n",
        "**Exercice 4 (Français)**\n",
        "\n",
        "Créer un diagramme à barres pour les données sur les LLINs comme au-dessus mais en utilisant `country` pour l’axe X et `year` pour le texte de survol."
      ]
    },
    {
      "cell_type": "markdown",
      "metadata": {
        "id": "G_ylINiJjPZW"
      },
      "source": [
        "## Line and area plots\n",
        "\n",
        "Let's also use the LLIN data to make some line and area plots, via the `px.line()` and `px.area()` functions.\n",
        "\n",
        "Here is a line plot of LLINs shipped to Nigeria."
      ]
    },
    {
      "cell_type": "code",
      "execution_count": null,
      "metadata": {
        "id": "XJgWfWMfeEs-",
        "tags": []
      },
      "outputs": [],
      "source": [
        "fig = px.line(\n",
        "    data_frame=df_llins.query(\"country == 'Nigeria'\"),\n",
        "    x=\"year\",\n",
        "    y=\"llins_shipped\",\n",
        "    color=\"llin_type\",\n",
        "    markers=True,\n",
        "    width=800,\n",
        "    title=\"LLIN shipments to Nigeria\",\n",
        "    labels={\n",
        "        \"year\": \"Year\",\n",
        "        \"llins_shipped\": \"No. LLINs\",\n",
        "        \"llin_type\": \"LLIN type\"\n",
        "    },\n",
        "    template=\"plotly_white\",\n",
        ")\n",
        "fig"
      ]
    },
    {
      "cell_type": "markdown",
      "metadata": {
        "id": "JFM7-bccvQV8"
      },
      "source": [
        "**Exercise 5 (English)**\n",
        "\n",
        "Make a line plot as above but for Democratic Republic of the Congo. Hint: use the query `\"country == 'DR Congo'\"`\n",
        "\n",
        "**Exercice 5 (Français)**\n",
        "\n",
        "Créer un diagramme à lignes comme ci-dessus mais pour la République Démocratique du Congo. Indice: Utiliser la requête `\"country == 'DR Congo'\"`"
      ]
    },
    {
      "cell_type": "markdown",
      "metadata": {
        "id": "KVBNl8aehvRe"
      },
      "source": [
        "**Exercise 6 (English)**\n",
        "\n",
        "Make an area plot using the LLIN data from Nigeria. Hint: it's exactly the same parameters as the line plot, just call the `px.area()` function instead of `px.line()`.\n",
        "\n",
        "**Exercice 6 (Français)**\n",
        "\n",
        "Créer un diagramme à zones utilisant les données des LLINs du Nigeria. Indice: Les paramètres sont les mêmes que pour le diagramme à lignes mais il faut appeler la fonction `px.area()` au lieu de `px.line()`."
      ]
    },
    {
      "cell_type": "markdown",
      "metadata": {
        "id": "Ua8OMC9UZMoP"
      },
      "source": [
        "## Well done!\n",
        "\n",
        "Hopefully this has been a useful introduction to plotting in Python.\n",
        "\n",
        "As I mentioned earlier, there are lots more plot types that Plotly Express provides, take a look at the [user guide](https://plotly.com/python/plotly-express/) and the [API docs](https://plotly.com/python-api-reference/plotly.express.html) for more information.\n",
        "\n",
        "Happy plotting!"
      ]
    },
    {
      "cell_type": "markdown",
      "metadata": {
        "id": "W8w27Sz_-KRk"
      },
      "source": [
        "## Exercises\n",
        "\n",
        "### English\n",
        "\n",
        "Open this notebook in Google Colab and run it for yourself from top to bottom. As you run through the notebook, cell by cell, think about what each cell is doing, and try the practical exercises along the way.\n",
        "\n",
        "Have go at the practical exercises, but please don’t worry if you don’t have time to do them all during the practical session, and please ask the teaching assistants for help if you are stuck.\n",
        "\n",
        "Hint: To open the notebook in Google Colab, click the rocket icon at the top of the page, then select “Colab” from the drop-down menu.\n",
        "\n",
        "### Français\n",
        "\n",
        "Ouvrir ce notebook dans Google Colab et l’exécuter vous-même du début à la fin. Pendant que vous exécutez le notebook, cellule par cellule, pensez à ce que chaque cellule fait et essayez de faire les exercices quand vous les rencontrez.\n",
        "\n",
        "Essayez de faire les exercices mais ne vous inquiétez pas si vous n’avez pas le temps de tout faire pendant la séance appliquée et n’hésitez pas à demander aux enseignants assistants si vous avez besoin d’aide parce que vous êtes bloqués.\n",
        "\n",
        "Indice: Pour ouvrir le notebook dans Google Colab, cliquer sur l’icône de fusée au sommet de cette page puis choisissez “Colab” dans le menu déroulant.\n"
      ]
    }
  ],
  "metadata": {
    "celltoolbar": "Tags",
    "colab": {
      "provenance": [],
      "include_colab_link": true
    },
    "kernelspec": {
      "display_name": "developer-developer-training-nb-maintenance-mgen-15.0.1",
      "language": "python",
      "name": "conda-env-developer-developer-training-nb-maintenance-mgen-15.0.1-py"
    },
    "language_info": {
      "codemirror_mode": {
        "name": "ipython",
        "version": 3
      },
      "file_extension": ".py",
      "mimetype": "text/x-python",
      "name": "python",
      "nbconvert_exporter": "python",
      "pygments_lexer": "ipython3",
      "version": "3.11.11"
    }
  },
  "nbformat": 4,
  "nbformat_minor": 0
}