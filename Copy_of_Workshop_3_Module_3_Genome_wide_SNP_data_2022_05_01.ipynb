{
  "cells": [
    {
      "cell_type": "markdown",
      "metadata": {
        "id": "view-in-github",
        "colab_type": "text"
      },
      "source": [
        "<a href=\"https://colab.research.google.com/github/Kimani-kj/MalariaGen/blob/main/Copy_of_Workshop_3_Module_3_Genome_wide_SNP_data_2022_05_01.ipynb\" target=\"_parent\"><img src=\"https://colab.research.google.com/assets/colab-badge.svg\" alt=\"Open In Colab\"/></a>"
      ]
    },
    {
      "cell_type": "markdown",
      "metadata": {
        "id": "zaYeOvgQLQjp"
      },
      "source": [
        "![banner](https://github.com/anopheles-genomic-surveillance/anopheles-genomic-surveillance.github.io/blob/master/docs/banner.jpg?raw=1)\n",
        "\n",
        "***[Workshop 3](about) - Training course in data analysis for genomic surveillance of African malaria vectors***\n",
        "\n",
        "---"
      ]
    },
    {
      "cell_type": "markdown",
      "metadata": {
        "id": "wR3_Wv8BPTQa"
      },
      "source": [
        "# Module 3 - Genome-wide SNP data\n",
        "\n",
        "**Theme: Data**\n",
        "\n",
        "In this module, we will look at the data that we use to analyse population structure: genome-wide SNP data. We will look again at how SNPs are called from whole-genome sequence data, and how the resulting SNP data are stored and accessed from Python code. We will also introduce site filters, which are an important tool to use when analysing SNP data from across the genome."
      ]
    },
    {
      "cell_type": "markdown",
      "metadata": {
        "id": "c0szNewp2LMJ"
      },
      "source": [
        "## Learning objectives\n",
        "\n",
        "At the end of this module, you will be able to:\n",
        "\n",
        "* Explain how SNPs are called from whole-genome sequence data\n",
        "* Use IGV to browse whole-genome sequence data\n",
        "* Access genome-wide SNP calls from Python code\n",
        "* Access site filters and explain why we need them\n"
      ]
    },
    {
      "cell_type": "markdown",
      "metadata": {
        "id": "xKFR9gFQ9jVN"
      },
      "source": [
        "## Lecture"
      ]
    },
    {
      "cell_type": "markdown",
      "metadata": {
        "id": "Hd1o-2zz9m96"
      },
      "source": [
        "### English"
      ]
    },
    {
      "cell_type": "code",
      "execution_count": 3,
      "metadata": {
        "tags": [
          "remove-input"
        ],
        "id": "wLbpJIpnmwCN",
        "outputId": "406368ca-e470-4e39-85c3-40af3d7bd1ca",
        "colab": {
          "base_uri": "https://localhost:8080/",
          "height": 336
        }
      },
      "outputs": [
        {
          "output_type": "display_data",
          "data": {
            "text/plain": [
              "<IPython.core.display.HTML object>"
            ],
            "text/html": [
              "<iframe width=\"560\" height=\"315\" src=\"https://www.youtube.com/embed/gu86T84B4bA\" title=\"YouTube video player\" frameborder=\"0\" allow=\"accelerometer; autoplay; clipboard-write; encrypted-media; gyroscope; picture-in-picture\" allowfullscreen></iframe>\n"
            ]
          },
          "metadata": {}
        }
      ],
      "source": [
        "%%html\n",
        "<iframe width=\"560\" height=\"315\" src=\"https://www.youtube.com/embed/gu86T84B4bA\" title=\"YouTube video player\" frameborder=\"0\" allow=\"accelerometer; autoplay; clipboard-write; encrypted-media; gyroscope; picture-in-picture\" allowfullscreen></iframe>"
      ]
    },
    {
      "cell_type": "markdown",
      "metadata": {
        "id": "wA8lXxgg9o5R"
      },
      "source": [
        "### Français\n"
      ]
    },
    {
      "cell_type": "code",
      "execution_count": null,
      "metadata": {
        "tags": [
          "remove-input"
        ],
        "id": "zMScUqc_mwCQ"
      },
      "outputs": [],
      "source": [
        "%%html\n",
        "<iframe width=\"560\" height=\"315\" src=\"https://www.youtube.com/embed/gTphnyuTlp0\" title=\"YouTube video player\" frameborder=\"0\" allow=\"accelerometer; autoplay; clipboard-write; encrypted-media; gyroscope; picture-in-picture\" allowfullscreen></iframe>"
      ]
    },
    {
      "cell_type": "markdown",
      "metadata": {
        "id": "BhWfHqbXmwCS"
      },
      "source": [
        "Please note that the code in the cells below might differ from that shown in the video. This can happen because Python packages and their dependencies change due to updates, necessitating tweaks to the code."
      ]
    },
    {
      "cell_type": "markdown",
      "metadata": {
        "id": "XBuDGTXQPgBW"
      },
      "source": [
        "## Setup\n",
        "\n",
        "As usual, let's begin by installing and importing some Python packages, and configuring access to *Anopheles* genomic data from the MalariaGEN Ag3.0 data resource."
      ]
    },
    {
      "cell_type": "code",
      "execution_count": 3,
      "metadata": {
        "id": "TRpGof2yQ9kf",
        "tags": [
          "remove-output"
        ],
        "colab": {
          "base_uri": "https://localhost:8080/"
        },
        "outputId": "e6f17e23-f1f8-4fae-a982-d084f3fdb57a"
      },
      "outputs": [
        {
          "output_type": "stream",
          "name": "stdout",
          "text": [
            "\u001b[?25l     \u001b[90m━━━━━━━━━━━━━━━━━━━━━━━━━━━━━━━━━━━━━━━━\u001b[0m \u001b[32m0.0/4.0 MB\u001b[0m \u001b[31m?\u001b[0m eta \u001b[36m-:--:--\u001b[0m\r\u001b[2K     \u001b[91m━━━━━\u001b[0m\u001b[91m╸\u001b[0m\u001b[90m━━━━━━━━━━━━━━━━━━━━━━━━━━━━━━━━━━\u001b[0m \u001b[32m0.6/4.0 MB\u001b[0m \u001b[31m21.3 MB/s\u001b[0m eta \u001b[36m0:00:01\u001b[0m\r\u001b[2K     \u001b[91m━━━━━━━━━━━━━━━━━━━━━━━━━━━━━━━━━━\u001b[0m\u001b[90m╺\u001b[0m\u001b[90m━━━━━\u001b[0m \u001b[32m3.4/4.0 MB\u001b[0m \u001b[31m53.3 MB/s\u001b[0m eta \u001b[36m0:00:01\u001b[0m\r\u001b[2K     \u001b[91m━━━━━━━━━━━━━━━━━━━━━━━━━━━━━━━━━━━━━━━\u001b[0m\u001b[91m╸\u001b[0m \u001b[32m4.0/4.0 MB\u001b[0m \u001b[31m56.1 MB/s\u001b[0m eta \u001b[36m0:00:01\u001b[0m\r\u001b[2K     \u001b[90m━━━━━━━━━━━━━━━━━━━━━━━━━━━━━━━━━━━━━━━━\u001b[0m \u001b[32m4.0/4.0 MB\u001b[0m \u001b[31m38.3 MB/s\u001b[0m eta \u001b[36m0:00:00\u001b[0m\n",
            "\u001b[?25h  Preparing metadata (setup.py) ... \u001b[?25l\u001b[?25hdone\n",
            "  Preparing metadata (setup.py) ... \u001b[?25l\u001b[?25hdone\n",
            "\u001b[2K   \u001b[90m━━━━━━━━━━━━━━━━━━━━━━━━━━━━━━━━━━━━━━━━\u001b[0m \u001b[32m199.0/199.0 kB\u001b[0m \u001b[31m5.6 MB/s\u001b[0m eta \u001b[36m0:00:00\u001b[0m\n",
            "\u001b[2K   \u001b[90m━━━━━━━━━━━━━━━━━━━━━━━━━━━━━━━━━━━━━━━━\u001b[0m \u001b[32m71.7/71.7 kB\u001b[0m \u001b[31m4.5 MB/s\u001b[0m eta \u001b[36m0:00:00\u001b[0m\n",
            "\u001b[2K   \u001b[90m━━━━━━━━━━━━━━━━━━━━━━━━━━━━━━━━━━━━━━━━\u001b[0m \u001b[32m7.8/7.8 MB\u001b[0m \u001b[31m101.3 MB/s\u001b[0m eta \u001b[36m0:00:00\u001b[0m\n",
            "\u001b[2K   \u001b[90m━━━━━━━━━━━━━━━━━━━━━━━━━━━━━━━━━━━━━━━━\u001b[0m \u001b[32m775.9/775.9 kB\u001b[0m \u001b[31m38.3 MB/s\u001b[0m eta \u001b[36m0:00:00\u001b[0m\n",
            "\u001b[2K   \u001b[90m━━━━━━━━━━━━━━━━━━━━━━━━━━━━━━━━━━━━━━━━\u001b[0m \u001b[32m8.9/8.9 MB\u001b[0m \u001b[31m101.9 MB/s\u001b[0m eta \u001b[36m0:00:00\u001b[0m\n",
            "\u001b[2K   \u001b[90m━━━━━━━━━━━━━━━━━━━━━━━━━━━━━━━━━━━━━━━━\u001b[0m \u001b[32m25.9/25.9 MB\u001b[0m \u001b[31m55.5 MB/s\u001b[0m eta \u001b[36m0:00:00\u001b[0m\n",
            "\u001b[2K   \u001b[90m━━━━━━━━━━━━━━━━━━━━━━━━━━━━━━━━━━━━━━━━\u001b[0m \u001b[32m8.7/8.7 MB\u001b[0m \u001b[31m77.9 MB/s\u001b[0m eta \u001b[36m0:00:00\u001b[0m\n",
            "\u001b[2K   \u001b[90m━━━━━━━━━━━━━━━━━━━━━━━━━━━━━━━━━━━━━━━━\u001b[0m \u001b[32m211.3/211.3 kB\u001b[0m \u001b[31m14.2 MB/s\u001b[0m eta \u001b[36m0:00:00\u001b[0m\n",
            "\u001b[2K   \u001b[90m━━━━━━━━━━━━━━━━━━━━━━━━━━━━━━━━━━━━━━━━\u001b[0m \u001b[32m6.3/6.3 MB\u001b[0m \u001b[31m72.1 MB/s\u001b[0m eta \u001b[36m0:00:00\u001b[0m\n",
            "\u001b[2K   \u001b[90m━━━━━━━━━━━━━━━━━━━━━━━━━━━━━━━━━━━━━━━━\u001b[0m \u001b[32m3.3/3.3 MB\u001b[0m \u001b[31m13.1 MB/s\u001b[0m eta \u001b[36m0:00:00\u001b[0m\n",
            "\u001b[2K   \u001b[90m━━━━━━━━━━━━━━━━━━━━━━━━━━━━━━━━━━━━━━━━\u001b[0m \u001b[32m78.3/78.3 kB\u001b[0m \u001b[31m5.4 MB/s\u001b[0m eta \u001b[36m0:00:00\u001b[0m\n",
            "\u001b[2K   \u001b[90m━━━━━━━━━━━━━━━━━━━━━━━━━━━━━━━━━━━━━━━━\u001b[0m \u001b[32m101.7/101.7 kB\u001b[0m \u001b[31m6.9 MB/s\u001b[0m eta \u001b[36m0:00:00\u001b[0m\n",
            "\u001b[2K   \u001b[90m━━━━━━━━━━━━━━━━━━━━━━━━━━━━━━━━━━━━━━━━\u001b[0m \u001b[32m228.0/228.0 kB\u001b[0m \u001b[31m13.7 MB/s\u001b[0m eta \u001b[36m0:00:00\u001b[0m\n",
            "\u001b[2K   \u001b[90m━━━━━━━━━━━━━━━━━━━━━━━━━━━━━━━━━━━━━━━━\u001b[0m \u001b[32m13.4/13.4 MB\u001b[0m \u001b[31m79.3 MB/s\u001b[0m eta \u001b[36m0:00:00\u001b[0m\n",
            "\u001b[2K   \u001b[90m━━━━━━━━━━━━━━━━━━━━━━━━━━━━━━━━━━━━━━━━\u001b[0m \u001b[32m1.6/1.6 MB\u001b[0m \u001b[31m58.6 MB/s\u001b[0m eta \u001b[36m0:00:00\u001b[0m\n",
            "\u001b[?25h  Building wheel for dash-cytoscape (setup.py) ... \u001b[?25l\u001b[?25hdone\n",
            "  Building wheel for asciitree (setup.py) ... \u001b[?25l\u001b[?25hdone\n"
          ]
        }
      ],
      "source": [
        "%pip install -q --no-warn-conflicts malariagen_data"
      ]
    },
    {
      "cell_type": "markdown",
      "metadata": {
        "id": "phPit19kmwCW"
      },
      "source": [
        "Note that authentication is required to access data through the package, please follow the instructions [here](https://malariagen.github.io/vector-data/vobs/vobs-data-access.html)."
      ]
    },
    {
      "cell_type": "code",
      "execution_count": 4,
      "metadata": {
        "id": "E7GPQkPcmwCX"
      },
      "outputs": [],
      "source": [
        "import malariagen_data"
      ]
    },
    {
      "cell_type": "code",
      "execution_count": 5,
      "metadata": {
        "id": "5e2-u0_tRAEA",
        "tags": []
      },
      "outputs": [],
      "source": [
        "import warnings\n",
        "warnings.simplefilter(action='ignore', category=UserWarning)\n",
        "\n",
        "import numpy as np"
      ]
    },
    {
      "cell_type": "code",
      "execution_count": 6,
      "metadata": {
        "colab": {
          "base_uri": "https://localhost:8080/",
          "height": 233
        },
        "id": "2gcbvm9sQ_XO",
        "outputId": "d7f09427-58ce-4525-de0b-0092a08ba8c5"
      },
      "outputs": [
        {
          "output_type": "execute_result",
          "data": {
            "text/plain": [
              "<MalariaGEN Ag3 API client>\n",
              "Storage URL             : gs://vo_agam_release_master_us_central1\n",
              "Data releases available : 3.0, 3.1, 3.2, 3.3, 3.4, 3.5, 3.6, 3.7, 3.8, 3.9, 3.10, 3.11, 3.12, 3.13, 3.14\n",
              "Results cache           : None\n",
              "Cohorts analysis        : 20250131\n",
              "AIM analysis            : 20220528\n",
              "Site filters analysis   : dt_20200416\n",
              "Software version        : malariagen_data 15.2.0\n",
              "Client location         : Iowa, United States (Google Cloud us-central1)\n",
              "---\n",
              "Please note that data are subject to terms of use,\n",
              "for more information see https://www.malariagen.net/data\n",
              "or contact support@malariagen.net. For API documentation see \n",
              "https://malariagen.github.io/malariagen-data-python/v15.2.0/Ag3.html"
            ],
            "text/html": [
              "\n",
              "            <table class=\"malariagen-ag3\">\n",
              "                <thead>\n",
              "                    <tr>\n",
              "                        <th style=\"text-align: left\" colspan=\"2\">MalariaGEN Ag3 API client</th>\n",
              "                    </tr>\n",
              "                    <tr><td colspan=\"2\" style=\"text-align: left\">\n",
              "                        Please note that data are subject to terms of use,\n",
              "                        for more information see <a href=\"https://www.malariagen.net/data\">\n",
              "                        the MalariaGEN website</a> or contact support@malariagen.net.\n",
              "                        See also the <a href=\"https://malariagen.github.io/malariagen-data-python/v15.2.0/Ag3.html\">Ag3 API docs</a>.\n",
              "                    </td></tr>\n",
              "                </thead>\n",
              "                <tbody>\n",
              "                    <tr>\n",
              "                        <th style=\"text-align: left\">\n",
              "                            Storage URL\n",
              "                        </th>\n",
              "                        <td>gs://vo_agam_release_master_us_central1</td>\n",
              "                    </tr>\n",
              "                    <tr>\n",
              "                        <th style=\"text-align: left\">\n",
              "                            Data releases available\n",
              "                        </th>\n",
              "                        <td>3.0, 3.1, 3.2, 3.3, 3.4, 3.5, 3.6, 3.7, 3.8, 3.9, 3.10, 3.11, 3.12, 3.13, 3.14</td>\n",
              "                    </tr>\n",
              "                    <tr>\n",
              "                        <th style=\"text-align: left\">\n",
              "                            Results cache\n",
              "                        </th>\n",
              "                        <td>None</td>\n",
              "                    </tr>\n",
              "                    <tr>\n",
              "                        <th style=\"text-align: left\">\n",
              "                            Cohorts analysis\n",
              "                        </th>\n",
              "                        <td>20250131</td>\n",
              "                    </tr>\n",
              "                    <tr>\n",
              "                        <th style=\"text-align: left\">\n",
              "                            AIM analysis\n",
              "                        </th>\n",
              "                        <td>20220528</td>\n",
              "                    </tr>\n",
              "                    <tr>\n",
              "                        <th style=\"text-align: left\">\n",
              "                            Site filters analysis\n",
              "                        </th>\n",
              "                        <td>dt_20200416</td>\n",
              "                    </tr>\n",
              "                    <tr>\n",
              "                        <th style=\"text-align: left\">\n",
              "                            Software version\n",
              "                        </th>\n",
              "                        <td>malariagen_data 15.2.0</td>\n",
              "                    </tr>\n",
              "                    <tr>\n",
              "                        <th style=\"text-align: left\">\n",
              "                            Client location\n",
              "                        </th>\n",
              "                        <td>Iowa, United States (Google Cloud us-central1)</td>\n",
              "                    </tr>\n",
              "                </tbody>\n",
              "            </table>\n",
              "        "
            ]
          },
          "metadata": {},
          "execution_count": 6
        }
      ],
      "source": [
        "ag3 = malariagen_data.Ag3()\n",
        "ag3"
      ]
    },
    {
      "cell_type": "markdown",
      "metadata": {
        "id": "5jj9WMFJMYfi"
      },
      "source": [
        "### Data locality\n",
        "\n",
        "Before we go any further, take a moment to check the **client location** field in the output of the cell above. This shows where your colab VM is running.\n",
        "\n",
        "In this workshop **we will be accessing data on millions of SNPs**. Because we are accessing a larger amount of data than we have done in previous workshops, we will need to make sure we are making the best possible use of our cloud computing resources, so that computations run as fast as possible and we don't have to wait for too long to see the results.\n",
        "\n",
        "In particular, **data locality** becomes important. Roughly speaking, data locality means how physically close is the computer on which your code is running to the computer on which the data is stored.\n",
        "\n",
        "MalariaGEN data is stored in Google Cloud in the US. Google Cloud is in fact is made up of data centres in many different locations across the US and also Europe and Asia. We chose to use the US simply because it is cheaper.\n",
        "\n",
        "Here's a map of the [current Google Cloud locations](https://cloud.google.com/about/locations) ...\n"
      ]
    },
    {
      "cell_type": "markdown",
      "metadata": {
        "id": "O3uB5gHX5HnX"
      },
      "source": [
        "<img src=\"https://vobs-resources.cog.sanger.ac.uk/training/img/workshop-3/gcp-locations.png\"></img>"
      ]
    },
    {
      "cell_type": "markdown",
      "metadata": {
        "id": "kwE2ijOm5qeI"
      },
      "source": [
        "When you use Google Colab, Google gives you a virtual machine somewhere in Google Cloud where your code will be executed. That virtual machine will be allocated usually from Google Cloud somewhere in the US. If so, there will be good locality between your colab VM (running in Google Cloud in the US) and MalariaGEN data (stored on a multi-region Google Cloud Storage bucket in the US).\n",
        "\n",
        "Occasionally, however, colab will allocate your VM from a data centre outside the US. If this happens, data locality is not good, because data then has to travel across the internet between continents.\n",
        "\n",
        "So before we start accessing data, it's a good idea to **check the client location** to see where your colab VM is running.\n",
        "\n",
        "If this shows somewhere **inside the US**, then you're good to go.\n",
        "\n",
        "If it shows somewhere **outside the US**, performance accessing MalariaGEN data will be poor, and computations can take more than twice as long. In this case, it's better to ask colab for a new VM, by selecting \"**Runtime > Disconnect and delete runtime**\" from the menu. Then rerun notebook from the top, and check the client location again. Colab will allocate a new VM, hopefully in the US this time."
      ]
    },
    {
      "cell_type": "markdown",
      "metadata": {
        "id": "yYqORm22Rdc1"
      },
      "source": [
        "## From sequence reads to SNP calls\n",
        "\n",
        "Let's look now at some *Anopheles* whole-genome sequence data, and how we get from sequence reads to single nucleotide polymorphism (SNP) calls.  \n",
        "\n",
        "Recall that the MalariaGEN team at the Wellcome Sanger Institute performs deep whole-genome sequencing of individual mosquitoes using Illumina paired-end sequencing technology. What this means is:\n",
        "\n",
        "* **Specimen shipping** - Individual mosquito specimens are shipped to Sanger in separate tubes or wells (it is important to keep the mosquito specimens separate, so the DNA from one specimen does not contaminate another).\n",
        "* **DNA extraction** - Genomic DNA is extracted from each individual specimen using nexttec kits and stored separately.\n",
        "* **Library prep** - DNA is then prepared for sequencing, which includes fragmenting the DNA, adding adapters (so DNA binds to the flowcell), and multiplexing (combining DNA from multiple specimens so they can be sequenced in the same run then separated afterwards).\n",
        "* **Whole-genome sequencing** - Sequencing is performed on an Illumina machine. Currently the Sanger Institute is using NovaSeq instruments for whole-genome sequencing of mosquitoes. Previously, HiSeq 2000 and HiSeq X instruments were used.\n",
        "  * Sequencing currently generates around 50 million sequence reads per mosquito specimen. Each read is 150 bp long, and reads come in pairs, where each read in a pair originates from opposite ends of the same DNA fragment.\n",
        "  * The target depth of coverage for each individual mosquito is 30x. This means we aim to generate enough sequence reads so that each base of the mosquito genome is sequenced around 30 times. In other words, for every base in the reference genome, we expect to have around 30 sequence reads aligned overlapping that position. 30x coverage is \"deep sequencing\", which is good for accurate SNP calling.\n",
        "* **Sequence read alignment** - Sequence reads from each individual mosquito are then aligned to a reference genome. We currently use the AgamP4 (a.k.a. PEST) reference genome for any specimens which are *An. gambiae*, *An. coluzzii* or *An. arabiensis*.\n",
        "* **SNP calling** - SNPs are called by analysing the sequence read alignments for nucleotides which differ between the reads and the reference sequence. SNPs are called at all sites across the whole genome, using the Genome Analysis Toolkit (GATK).\n",
        "\n",
        "We can view the sequence read alignments for any sample using a specialised genomics viewer called [IGV](https://igv.org/), via the `view_alignments()` function. Let's view alignments for a randomly chosen sample from Burkina Faso, starting our view with the whole of chromosome arm 2L...\n"
      ]
    },
    {
      "cell_type": "code",
      "execution_count": null,
      "metadata": {
        "id": "YY18ubZfaaiK"
      },
      "outputs": [],
      "source": [
        "ag3.view_alignments(sample=\"AB0087-C\", region=\"2L\")"
      ]
    },
    {
      "cell_type": "markdown",
      "metadata": {
        "id": "SgGUa1d0LlPq"
      },
      "source": [
        "Here's some suggestions for how to interact with this viewer and start exploring the **sequence read alignments**...\n",
        "\n",
        "* This initial view shows the whole of chromosome arm 2L, which is 49,364,325 base pairs (49.3 Mbp) long. This is too zoomed out to see any alignments or SNP calls. We can, however, see the gene annotations - recall we studied gene annotations in [workshop 1, module 3](https://anopheles-genomic-surveillance.github.io/workshop-1/module-3-genome.html).\n",
        "* We need to zoom in to see more data. Try zooming in to a region around 2.4 Mbp. There are various ways to zoom in, e.g.:\n",
        "  * Click on the \"+\" button.\n",
        "  * Click and select a region on the distance scale at the top.\n",
        "  * Double click somewhere in the genes track.\n",
        "* Keep zooming in until you can see horizontal grey bars appear in the \"Alignments\" track - these are sequence reads.\n",
        "* Keep zooming in further, trying to stay centred on position 2,422,652, until you see the letters (nucleotides) of the reference genome appear.\n",
        "* At this point you should notice that some of the sequence reads have a \"T\" showing at this position. This \"T\" is showing because it is different from the reference genome. Try clicking on the gear icon for the alignments track and select \"show all bases\".\n",
        "* We are usually only interested in positions where reads are different from reference sequence, hence \"show all bases\" is turned off by default. You may want to turn it off again.\n",
        "* Depth of coverage is shown above the sequence reads. Notice the colours at this position, showing that around half the reads have an \"A\" (reference) allele, and the other half have a \"T\" (alternate) allele. **This is what a SNP looks like**. We've studied this SNP before - it causes the *Vgsc* L995F substitution.\n",
        "* This particular sample has a **heterozygous genotype** - remember mosquitoes are diploid, and so have two genome copies, one from each parent - these may be different from each other, in which case you get roughly 50/50 sequence reads from each.\n",
        "* Click on the square at this position in the upper half of the SNPs track. This shows the SNP position (2,422,652), reference allele (A) and alternate alleles (C,T,G).\n",
        "* Click on the square at this position in the lower half of the SNPs track. This shows the genotype call \"A|T\" which means a heterozygous genotype with one \"A\" and one \"T\" allele.\n",
        "* Now zoom out and browse around a little, and look for some more SNPs in the neighbouring region.\n"
      ]
    },
    {
      "cell_type": "markdown",
      "metadata": {
        "id": "6zJQ8agJM0o5"
      },
      "source": [
        "**Exercise 1 (English)**\n",
        "\n",
        "In the code cell below, uncomment the code and run the cell to create a new IGV browser, showing data for sample AB0096-C, centred on position 2L:2,422,652. What genotype does this sample have at this SNP?\n",
        "\n",
        "**Exercice 1 (Français)**\n",
        "\n",
        "Dans la cellule ci-dessous, supprimer le \"#\" et lancer la cellule pour créer un nouvelle fenêtre IGV, affichant les données pour l'échantillon AB0096-C, centré sur la position 2L:2,422,652. Quel génotype possède cet échantillon à ce SNP?"
      ]
    },
    {
      "cell_type": "code",
      "execution_count": null,
      "metadata": {
        "id": "4mdNC5LhwepZ"
      },
      "outputs": [],
      "source": [
        "# ag3.view_alignments(sample=\"AB0096-C\", region=\"2L:2,422,601-2,422,701\")"
      ]
    },
    {
      "cell_type": "markdown",
      "metadata": {
        "id": "U7WiGfxDyNRr"
      },
      "source": [
        "**Exercise 2 (English)**\n",
        "\n",
        "Create a new code cell below with an IGV browser showing sample AB0087-C centred on position 2L:2,391,228. What is the reference allele at this SNP? What are the alternate alleles? What is the genotype of this sample?\n",
        "\n",
        "**Exercice 2 (Français)**\n",
        "\n",
        "Créer une nouvelle cellule code avec une fenêtre IGV affichant l'échantillon AB0087-C centré sur la position 2L:2,391,228. Quel est l'allèle de référence à ce SNP? Quel sont les allèles alternatifs? Quel est le génotype de cet échantillon?"
      ]
    },
    {
      "cell_type": "markdown",
      "metadata": {
        "id": "z9TbH5QgNVMH"
      },
      "source": [
        "## Accessing SNP calls\n",
        "\n",
        "As we've mentioned, for this workshop we are not interested in any particular genes or SNPs, rather we want to use SNPs from across the genome to study population structure. Let's take a look at how the SNP calls are stored and accessed from Python code. For example, access SNP calls for chromosome arm 2L, for sample set AG1000G-BF_A ..."
      ]
    },
    {
      "cell_type": "code",
      "execution_count": null,
      "metadata": {
        "id": "-EU9mnz-NXlw"
      },
      "outputs": [],
      "source": [
        "ds_snps = ag3.snp_calls(region=\"2L\", sample_sets=\"AG1000G-BF-A\")\n",
        "ds_snps"
      ]
    },
    {
      "cell_type": "markdown",
      "metadata": {
        "id": "rla60q3S0Fyg"
      },
      "source": [
        "Notice that the dimensions shows \"samples: 181\". This is the number of samples (mosquito specimens) in sample set AG1000G-BF-A.\n",
        "\n",
        "Notice that the dimensions shows \"variants: 48,525,747. What does this mean?\n",
        "\n",
        "In MalariaGEN we perform **all-sites SNP calling**, which means we call and store the genotype for every sample at **every position in the genome**, regardless of whether there is any variation or not. So here we have SNP calls at 48,525,747 positions, or \"sites\".\n",
        "\n",
        "If you're sharp you'll remember that chromomsome arm 2L is 49,364,325 base pairs long, so why the discrepancy? This is because there are some gaps in the reference genome, which are positions where the reference nucleotide is unknown (\"N\"). We do not call SNPs at these sites. We can check this is true..."
      ]
    },
    {
      "cell_type": "code",
      "execution_count": null,
      "metadata": {
        "id": "Y6N2oBLX1CED"
      },
      "outputs": [],
      "source": [
        "seq = ag3.genome_sequence(region=\"2L\").compute()\n",
        "np.count_nonzero((seq != b'N') & (seq != b'n'))"
      ]
    },
    {
      "cell_type": "markdown",
      "metadata": {
        "id": "RUycmJ5y1eg7"
      },
      "source": [
        "Let's access the genomic positions of the SNPs we've called..."
      ]
    },
    {
      "cell_type": "code",
      "execution_count": null,
      "metadata": {
        "id": "KnnQWogJN1qf"
      },
      "outputs": [],
      "source": [
        "pos = ds_snps[\"variant_position\"].values\n",
        "pos"
      ]
    },
    {
      "cell_type": "markdown",
      "metadata": {
        "id": "LhcHA3Fh1jF6"
      },
      "source": [
        "So, the first SNP calls are made at position 1, and the last SNP calls are made at position 49,364,325.\n",
        "\n",
        "Let's look at the alleles..."
      ]
    },
    {
      "cell_type": "code",
      "execution_count": null,
      "metadata": {
        "id": "epVwxOfFN-KB"
      },
      "outputs": [],
      "source": [
        "alleles = ds_snps[\"variant_allele\"].values\n",
        "alleles"
      ]
    },
    {
      "cell_type": "markdown",
      "metadata": {
        "id": "ie5ffB-T13QD"
      },
      "source": [
        "In this array, each row corresponds to a position in the genome where we perform SNP calling.\n",
        "\n",
        "The first column contains the alleles which correspond to the nucleotides in the reference genome, called the \"**reference alleles**\".\n",
        "\n",
        "The second, third and fourth columns contain possible \"**alternate alleles**\", which are other nucleotides that could occur at that site.\n",
        "\n",
        "We can't look at the genotypes for the whole genome, because the data are too big - we would run out of memory on our colab VM, and it would crash."
      ]
    },
    {
      "cell_type": "code",
      "execution_count": null,
      "metadata": {
        "id": "w0pj6KPQOAbt"
      },
      "outputs": [],
      "source": [
        "# Don't do this - it will crash your VM!\n",
        "\n",
        "# gt = ds_snps[\"call_genotype\"].values"
      ]
    },
    {
      "cell_type": "code",
      "execution_count": null,
      "metadata": {
        "id": "AgQ-cIpiZBlO"
      },
      "outputs": [],
      "source": [
        "ds_snps[\"call_genotype\"].data"
      ]
    },
    {
      "cell_type": "markdown",
      "metadata": {
        "id": "E5zorZftS366"
      },
      "source": [
        "Instead, let's look at data for a single position and sample."
      ]
    },
    {
      "cell_type": "code",
      "execution_count": null,
      "metadata": {
        "id": "Z2EDJ61UNc-Z"
      },
      "outputs": [],
      "source": [
        "snp_call = (\n",
        "    ds_snps\n",
        "    .set_index(variants=\"variant_position\", samples=\"sample_id\")\n",
        "    .sel(variants=2_422_652, samples=\"AB0087-C\")\n",
        ")"
      ]
    },
    {
      "cell_type": "markdown",
      "metadata": {
        "id": "HYtouWRzMRAB"
      },
      "source": [
        "Here are the alleles at this site:"
      ]
    },
    {
      "cell_type": "code",
      "execution_count": null,
      "metadata": {
        "id": "KshzGbJBPU-R"
      },
      "outputs": [],
      "source": [
        "snp_call[\"variant_allele\"].values"
      ]
    },
    {
      "cell_type": "markdown",
      "metadata": {
        "id": "j82iqK_JMT7u"
      },
      "source": [
        "Here is the genotype call in the selected sample:"
      ]
    },
    {
      "cell_type": "code",
      "execution_count": null,
      "metadata": {
        "id": "YnTdKkC8PzDd"
      },
      "outputs": [],
      "source": [
        "snp_call[\"call_genotype\"].values"
      ]
    },
    {
      "cell_type": "markdown",
      "metadata": {
        "id": "GKM7dKJw2LHu"
      },
      "source": [
        "Note that the genotype here is encoded as numbers rather than letters. By convention, we use the number `0` to represent the reference allele (A); and the numbers `1`, `2`, `3` represent the first, second and third alternate alleles (C, T, G) respectively.\n",
        "\n",
        "So the numerical genotype `[0, 2]` represents the nucleotide genotype A/T."
      ]
    },
    {
      "cell_type": "markdown",
      "metadata": {
        "id": "zt1LJ_MZ3yz0"
      },
      "source": [
        "**Exercise 3 (English)**\n",
        "\n",
        "Uncomment the code cell below and run it to access the SNP call for position 2,422,652 in sample AB0096-C. What is the genotype of this sample, decoded from numerical representation into nucleotide representation?\n",
        "\n",
        "**Exercice 3 (Français)**\n",
        "\n",
        "Dans la cellule ci-dessous, supprimer le # et lancer la cellule pour obtenir le SNP à la position 2'422'652 dans l'échantillon AB0096-C. Quel est le génotype de cet échantillon? Il faudra convertir la représentation numérique du SNP en représentation nucléotidique."
      ]
    },
    {
      "cell_type": "code",
      "execution_count": null,
      "metadata": {
        "id": "wKQTq5gT4FBP"
      },
      "outputs": [],
      "source": [
        "# snp_call = (\n",
        "#     ds_snps\n",
        "#     .set_index(variants=\"variant_position\", samples=\"sample_id\")\n",
        "#     .sel(variants=2_422_652, samples=\"AB0096-C\")\n",
        "# )\n",
        "# snp_call[\"call_genotype\"].values"
      ]
    },
    {
      "cell_type": "markdown",
      "metadata": {
        "id": "EysDappI4NGX"
      },
      "source": [
        "**Exercise 4 (English)**\n",
        "\n",
        "Create a new code cell to access the SNP call for sample AB0087-C at position 2,391,228. What are the SNP alleles at this site? What is the genotype of this sample in numerical and nucleotide representations?\n",
        "\n",
        "**Exercice 4 (Français)**\n",
        "\n",
        "Créer une nouvelle cellule code et obtenir le SNP pour l'échantillon AB0087-C à la position 2'391'228. Quel sont les allèles de ce SNP? Quel est le génotype de cet échantillon en représentation numérique et nucléotidique?\n"
      ]
    },
    {
      "cell_type": "markdown",
      "metadata": {
        "id": "JFuBGqzZQUKQ"
      },
      "source": [
        "## Allele counts and segregating SNPs\n",
        "\n",
        "Although we perform SNP calling at all sites in the genome, at many sites there will be no variation in the samples we've genotyped. If there is no variation, we call this a \"non-segregating site\". On the other hand, if there is some variation between the individuals genotyped, we call this a \"segregating site\".\n",
        "\n",
        "For a given cohort of samples, we might like to know how many segregating sites are present across the genome. We can answer that question by performing an allele count. This is a computation where we scan across all the genotypes at all sites, and for each site we count the number of times each allele is observed.\n",
        "\n",
        "Let's perform an allele count for chromosome arm 2L for sample set AG1000G-BF-A.\n",
        "\n",
        "Note that this will take a minute or two, because we have to scan data for millions of SNPs."
      ]
    },
    {
      "cell_type": "code",
      "execution_count": null,
      "metadata": {
        "id": "onfsEaN_QWt1"
      },
      "outputs": [],
      "source": [
        "ac = ag3.snp_allele_counts(region=\"2L\", sample_sets=\"AG1000G-BF-A\")"
      ]
    },
    {
      "cell_type": "code",
      "execution_count": null,
      "metadata": {
        "id": "zNm1-PDYmwCm"
      },
      "outputs": [],
      "source": [
        "ac"
      ]
    },
    {
      "cell_type": "markdown",
      "metadata": {
        "id": "9VB05VlOOCjr"
      },
      "source": [
        "Here again each row corresponds to a site, and the columns correspond to the alleles. So the first column gives the reference allele counts, and the remaining columns give the alternate allele counts.\n",
        "\n",
        "Let's slice this array to see data for some other sites."
      ]
    },
    {
      "cell_type": "code",
      "execution_count": null,
      "metadata": {
        "id": "PGY6I87NMqGz"
      },
      "outputs": [],
      "source": [
        "ac[2000:3000]"
      ]
    },
    {
      "cell_type": "markdown",
      "metadata": {
        "id": "nWpXaDhHOOgZ"
      },
      "source": [
        "In the array above, the first site shown is **segregating** because we observed the reference allele 343 times and the second alternate allele 19 times, thus there is some variation.\n",
        "\n",
        "All the other sites are **non-segregating** because only the reference allele is observed.\n",
        "\n",
        "We can count the total number of segregating sites using a Python package called scikit-allel."
      ]
    },
    {
      "cell_type": "code",
      "execution_count": 1,
      "metadata": {
        "id": "0rNfbPEp6BEM",
        "colab": {
          "base_uri": "https://localhost:8080/",
          "height": 325
        },
        "outputId": "10c75a22-1074-4ce8-9c89-0e9a6db02312"
      },
      "outputs": [
        {
          "output_type": "error",
          "ename": "ModuleNotFoundError",
          "evalue": "No module named 'allel'",
          "traceback": [
            "\u001b[0;31m---------------------------------------------------------------------------\u001b[0m",
            "\u001b[0;31mModuleNotFoundError\u001b[0m                       Traceback (most recent call last)",
            "\u001b[0;32m<ipython-input-1-98f1567a98c7>\u001b[0m in \u001b[0;36m<cell line: 0>\u001b[0;34m()\u001b[0m\n\u001b[0;32m----> 1\u001b[0;31m \u001b[0;32mimport\u001b[0m \u001b[0mallel\u001b[0m\u001b[0;34m\u001b[0m\u001b[0;34m\u001b[0m\u001b[0m\n\u001b[0m",
            "\u001b[0;31mModuleNotFoundError\u001b[0m: No module named 'allel'",
            "",
            "\u001b[0;31m---------------------------------------------------------------------------\u001b[0;32m\nNOTE: If your import is failing due to a missing package, you can\nmanually install dependencies using either !pip or !apt.\n\nTo view examples of installing some common dependencies, click the\n\"Open Examples\" button below.\n\u001b[0;31m---------------------------------------------------------------------------\u001b[0m\n"
          ],
          "errorDetails": {
            "actions": [
              {
                "action": "open_url",
                "actionText": "Open Examples",
                "url": "/notebooks/snippets/importing_libraries.ipynb"
              }
            ]
          }
        }
      ],
      "source": [
        "import allel"
      ]
    },
    {
      "cell_type": "code",
      "execution_count": null,
      "metadata": {
        "id": "snJ_6DR56IUT"
      },
      "outputs": [],
      "source": [
        "ac = allel.AlleleCountsArray(ac)\n",
        "ac.count_segregating()"
      ]
    },
    {
      "cell_type": "markdown",
      "metadata": {
        "id": "GetXPeqi9tHq"
      },
      "source": [
        "**Exercise 5 (English)**\n",
        "\n",
        "Uncomment and run the code cell below to find out how many variant SNPs are present in the AG1000G-BF-A sample set on chromosome arm 3L.\n",
        "\n",
        "**Exercice 5 (Français)**\n",
        "\n",
        "Supprimer le # dans la cellule ci-dessous et lancer la cellule pour calculer le nombre de SNPs présents dans le jeu d'échantillons AG1000G-BF-A sur le bras de chromosome 3L."
      ]
    },
    {
      "cell_type": "code",
      "execution_count": null,
      "metadata": {
        "id": "sXk5oAxA92kg"
      },
      "outputs": [],
      "source": [
        "# ac = ag3.snp_allele_counts(region=\"3L\", sample_sets=\"AG1000G-BF-A\")\n",
        "# ac = allel.AlleleCountsArray(ac)\n",
        "# ac.count_segregating()"
      ]
    },
    {
      "cell_type": "markdown",
      "metadata": {
        "id": "xnkgevyV-CoO"
      },
      "source": [
        "**Exercise 6 (English)**\n",
        "\n",
        "Create a new code cell to count the number of segregating SNPs on chromosome arm 3R in *An. coluzzii* samples from sample set AG1000G-GH. Hint: add a `sample_query=\"taxon == 'coluzzii'\"` parameter.\n",
        "\n",
        "**Exercice 6 (Français)**\n",
        "\n",
        "Créer une nouvelle cellule code et calculer le nombre de \"segregating SNPs\" (SNPs variables) sur le bras de chromosome 3R dans les moustiques *An. coluzzii* du jeu d'échantillons AG1000G-GH. Indice: ajouner le paramètre `sample_query=\"taxon == 'coluzzii'\"`."
      ]
    },
    {
      "cell_type": "markdown",
      "metadata": {
        "id": "UsH38k3PD_jL"
      },
      "source": [
        "## Site filters\n",
        "\n",
        "### Why do we need site filters?\n",
        "\n",
        "When analysing genome-wide SNP data, there are some sites in the genome where it is difficult to reliably call SNP genotypes. This can be for a variety of reasons. For example, some genome regions are very repetitive, and short sequence reads cannot be aligned unambiguously. Another issue can be that some samples have structural variation in some regions of the genome, where different samples have different numbers of copies of a given sequence.\n",
        "\n",
        "To get a sense of what this looks like in the data, let's use IGV again, and let's jump straight into the genome region we were looking at earlier."
      ]
    },
    {
      "cell_type": "code",
      "execution_count": null,
      "metadata": {
        "id": "2D_9ovgYRlHz"
      },
      "outputs": [],
      "source": [
        "ag3.view_alignments(sample=\"AB0087-C\", region=\"2L:2,419,000-2,425,000\")"
      ]
    },
    {
      "cell_type": "markdown",
      "metadata": {
        "id": "Lr2zXroyTw8w"
      },
      "source": [
        "For most of the region, the alignments look \"tidy\", in the sense that almost all reads are coloured grey, and depth of coverage is consistent.\n",
        "\n",
        "But on the left, notice the area where coverage drops, and there are many transparent reads - these have a mapping quality of zero, which means they could equally well have been aligned at another position in the genome.\n",
        "\n",
        "This indicates some kind of repetitive region of the genome, and our alignments in this region are not reliable, thus we cannot expect to accurately call SNPs in that region.\n",
        "\n",
        "By the way, if you're wondering what all the different colours mean in the browser above, check out the [IGV alignment track docs](https://igv.org/doc/desktop/#UserGuide/tracks/alignments/viewing_alignments_basics/#alignment-track)."
      ]
    },
    {
      "cell_type": "markdown",
      "metadata": {
        "id": "pioN1VkdTmje"
      },
      "source": [
        "### What site filters are available?\n",
        "\n",
        "To identify and avoid sites like these, we have created site filters. These are Boolean masks which identify sites where SNP genotyping is reliable, based on the fact that most sequence reads are unambiguously aligned, and there is minimal evidence for structural variation.\n",
        "\n",
        "Because we have multiple mosquito species included in the data (*An. gambiae*, *An. coluzzii* and *An. arabiensis*) we have created three different site filters which are appropriate in different circumstances, depending on which samples you’re analysing. Here is a summary of the three site filters:\n",
        "\n",
        "* **“gamb_colu_arab”** - These site filters are appropriate when performing a joint analysis of samples from any of the three species. They are, however, more stringent the other filters, which we’ll explore further below.\n",
        "\n",
        "* **“gamb_colu”** - These site filters are appropriate when analysing only samples that are not An. arabiensis.\n",
        "\n",
        "* **“arab”** - These sige filters are appropriate when analysing only samples that are An. arabiensis.\n",
        "\n",
        "For each of these filters, there is one Boolean mask per chromosome arm. The Boolean masks are True where a site passes the filter and False otherwise. E.g., here’s the gamb_colu_arab site filter for chromosome arm 2L:"
      ]
    },
    {
      "cell_type": "code",
      "execution_count": null,
      "metadata": {
        "id": "7sQy0Mr7Twty"
      },
      "outputs": [],
      "source": [
        "loc_site_pass = ds_snps[\"variant_filter_pass_gamb_colu_arab\"].values\n",
        "loc_site_pass"
      ]
    },
    {
      "cell_type": "markdown",
      "metadata": {
        "id": "u-UULAERO_A5"
      },
      "source": [
        "We can count how many sites pass and fail this filter."
      ]
    },
    {
      "cell_type": "code",
      "execution_count": null,
      "metadata": {
        "id": "F7vcIBEiPBOt"
      },
      "outputs": [],
      "source": [
        "n_pass = np.count_nonzero(loc_site_pass)\n",
        "n_pass"
      ]
    },
    {
      "cell_type": "code",
      "execution_count": null,
      "metadata": {
        "id": "QUg_At2sPD-P"
      },
      "outputs": [],
      "source": [
        "n_fail = np.count_nonzero(~loc_site_pass)\n",
        "n_fail"
      ]
    },
    {
      "cell_type": "markdown",
      "metadata": {
        "id": "AjrtXl-4PHl6"
      },
      "source": [
        "We can also apply this filter to the data, via the `site_mask` parameter. E.g., let's access SNP call data with the gamb_colu_arab filters applied."
      ]
    },
    {
      "cell_type": "code",
      "execution_count": null,
      "metadata": {
        "id": "G-7r8HxeNifh"
      },
      "outputs": [],
      "source": [
        "ds_snps_pass = ag3.snp_calls(\n",
        "    region=\"2L\",\n",
        "    sample_sets=\"AG1000G-BF-A\",\n",
        "    site_mask=\"gamb_colu_arab\"\n",
        ")\n",
        "ds_snps_pass"
      ]
    },
    {
      "cell_type": "markdown",
      "metadata": {
        "id": "q_N1EZgwN06y"
      },
      "source": [
        "Notice the size of the variants dimension is smaller, and corresponds to the number of sites passing the filter we calculated above (32,529,983).\n",
        "\n",
        "To get some more intuition for site filters and segregating SNPs, let's plot SNPs for a region of chromosome arm 2L spanning the *Vgsc* gene."
      ]
    },
    {
      "cell_type": "code",
      "execution_count": null,
      "metadata": {
        "id": "_kVGTv-mPa-A"
      },
      "outputs": [],
      "source": [
        "ag3.plot_snps(\n",
        "    region=\"2L:2,350,000-2,450,000\",\n",
        "    sample_sets=\"AG1000G-BF-A\",\n",
        "    site_mask=\"gamb_colu_arab\",\n",
        ");"
      ]
    },
    {
      "cell_type": "markdown",
      "metadata": {
        "id": "DBENukvEPsHg"
      },
      "source": [
        "**Exercise 7 (English)**\n",
        "\n",
        "Plot SNPs for the region 2L:25,350,000-25,440,000 using sample set AG1000G-CI and the gamb_colu site mask.\n",
        "\n",
        "What gene does this region overlap?\n",
        "\n",
        "Now zoom in on position 25,429,236. Try to answer the following questions:\n",
        "\n",
        "* Is it segregating?\n",
        "* Does it pass the site filters?\n",
        "* How many alleles are found? Hint: look at the \"No. alleles\" field in the hover text.\n",
        "* Which allele is most common? How many times was it observed?\n",
        "\n",
        "**Exercice 7 (Français)**\n",
        "\n",
        "Créer un graphe intéractif des SNPs dans la région génomique 2L:25,350,000-25,440,000, utilisant le jeu d'échantillons AG1000G-CI et le filtre de position gamb_colu.\n",
        "\n",
        "Quel gène est présent dans cette région?\n",
        "\n",
        "Aggrandir la position 25,429,236 et répondre aux questions suivantes:\n",
        "\n",
        "* Le SNP à cette position est-il variable (\"segregating\").\n",
        "* La position passe-t-elle le filtre de positions?\n",
        "* Combien d'allèle retrouve-t-on à cette position? Indice: Placer la souris sur le SNP et consulter la rubrique \"No. alleles\"\n",
        "* Quel allèle est le plus fréquent? Combien de fois le retrouve-t-on?"
      ]
    },
    {
      "cell_type": "markdown",
      "metadata": {
        "id": "w-06LizzQEGQ"
      },
      "source": [
        "## Well done!\n",
        "\n",
        "Congratulations on making it to the end of this module!\n"
      ]
    },
    {
      "cell_type": "markdown",
      "metadata": {
        "id": "mLVgbKv9mwCu"
      },
      "source": [
        "## Exercises\n",
        "\n",
        "### English\n",
        "\n",
        "Open this notebook in Google Colab and run it for yourself from top to bottom. As you run through the notebook, cell by cell, think about what each cell is doing, and try the practical exercises along the way.\n",
        "\n",
        "Have go at the practical exercises, but please don’t worry if you don’t have time to do them all during the practical session, and please ask the teaching assistants for help if you are stuck.\n",
        "\n",
        "Hint: To open the notebook in Google Colab, click the rocket icon at the top of the page, then select “Colab” from the drop-down menu.\n",
        "\n",
        "### Français\n",
        "\n",
        "Ouvrir ce notebook dans Google Colab et l’exécuter vous-même du début à la fin. Pendant que vous exécutez le notebook, cellule par cellule, pensez à ce que chaque cellule fait et essayez de faire les exercices quand vous les rencontrez.\n",
        "\n",
        "Essayez de faire les exercices mais ne vous inquiétez pas si vous n’avez pas le temps de tout faire pendant la séance appliquée et n’hésitez pas à demander aux enseignants assistants si vous avez besoin d’aide parce que vous êtes bloqués.\n",
        "\n",
        "Indice: Pour ouvrir le notebook dans Google Colab, cliquer sur l’icône de fusée au sommet de cette page puis choisissez “Colab” dans le menu déroulant."
      ]
    },
    {
      "cell_type": "code",
      "execution_count": null,
      "metadata": {
        "id": "EEdaoLslmwCu"
      },
      "outputs": [],
      "source": []
    }
  ],
  "metadata": {
    "celltoolbar": "Tags",
    "colab": {
      "provenance": [],
      "include_colab_link": true
    },
    "kernelspec": {
      "display_name": "developer-developer-training-nb-maintenance-mgen-15.2.0",
      "language": "python",
      "name": "conda-env-developer-developer-training-nb-maintenance-mgen-15.2.0-py"
    },
    "language_info": {
      "codemirror_mode": {
        "name": "ipython",
        "version": 3
      },
      "file_extension": ".py",
      "mimetype": "text/x-python",
      "name": "python",
      "nbconvert_exporter": "python",
      "pygments_lexer": "ipython3",
      "version": "3.11.11"
    }
  },
  "nbformat": 4,
  "nbformat_minor": 0
}